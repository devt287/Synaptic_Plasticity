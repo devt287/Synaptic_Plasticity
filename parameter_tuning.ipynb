{
 "cells": [
  {
   "cell_type": "code",
   "execution_count": 66,
   "metadata": {},
   "outputs": [],
   "source": [
    "import matplotlib.pyplot as plt\n",
    "import numpy as np\n",
    "from matplotlib.colors import ListedColormap\n",
    "from matplotlib.patches import Patch\n",
    "import pandas as pd\n",
    "from IPython.display import display, Latex\n",
    "from IPython.display import display, Markdown"
   ]
  },
  {
   "cell_type": "code",
   "execution_count": 67,
   "metadata": {},
   "outputs": [
    {
     "data": {
      "text/markdown": [
       "Parameter tuning for the G_VDCC and G_NMDA"
      ],
      "text/plain": [
       "<IPython.core.display.Markdown object>"
      ]
     },
     "metadata": {},
     "output_type": "display_data"
    },
    {
     "data": {
      "text/html": [
       "<div>\n",
       "<style scoped>\n",
       "    .dataframe tbody tr th:only-of-type {\n",
       "        vertical-align: middle;\n",
       "    }\n",
       "\n",
       "    .dataframe tbody tr th {\n",
       "        vertical-align: top;\n",
       "    }\n",
       "\n",
       "    .dataframe thead th {\n",
       "        text-align: right;\n",
       "    }\n",
       "</style>\n",
       "<table border=\"1\" class=\"dataframe\">\n",
       "  <thead>\n",
       "    <tr style=\"text-align: right;\">\n",
       "      <th></th>\n",
       "      <th>G_VDCC</th>\n",
       "      <th>G_NMDA</th>\n",
       "      <th>\\delta t=83.5</th>\n",
       "      <th>\\delta t=84</th>\n",
       "      <th>\\delta t=84.5</th>\n",
       "    </tr>\n",
       "  </thead>\n",
       "  <tbody>\n",
       "    <tr>\n",
       "      <th>0</th>\n",
       "      <td>0.8/50</td>\n",
       "      <td>1.75/50</td>\n",
       "      <td>1</td>\n",
       "      <td>1</td>\n",
       "      <td>-1</td>\n",
       "    </tr>\n",
       "    <tr>\n",
       "      <th>1</th>\n",
       "      <td>0.75/50</td>\n",
       "      <td>1.75/50</td>\n",
       "      <td>-1</td>\n",
       "      <td>-1</td>\n",
       "      <td>-1</td>\n",
       "    </tr>\n",
       "    <tr>\n",
       "      <th>2</th>\n",
       "      <td>0.825/50</td>\n",
       "      <td>1.75/50</td>\n",
       "      <td>1</td>\n",
       "      <td>1</td>\n",
       "      <td>1</td>\n",
       "    </tr>\n",
       "    <tr>\n",
       "      <th>3</th>\n",
       "      <td>0.775/50</td>\n",
       "      <td>1.75/50</td>\n",
       "      <td>-1</td>\n",
       "      <td>-1</td>\n",
       "      <td>-1</td>\n",
       "    </tr>\n",
       "    <tr>\n",
       "      <th>4</th>\n",
       "      <td>0.775/50</td>\n",
       "      <td>1.8/50</td>\n",
       "      <td>1</td>\n",
       "      <td>-1</td>\n",
       "      <td>-1</td>\n",
       "    </tr>\n",
       "    <tr>\n",
       "      <th>5</th>\n",
       "      <td>0.775/50</td>\n",
       "      <td>1.825/50</td>\n",
       "      <td>1</td>\n",
       "      <td>1</td>\n",
       "      <td>1</td>\n",
       "    </tr>\n",
       "    <tr>\n",
       "      <th>6</th>\n",
       "      <td>0.775/50</td>\n",
       "      <td>1.81/50</td>\n",
       "      <td>1</td>\n",
       "      <td>1</td>\n",
       "      <td>-1</td>\n",
       "    </tr>\n",
       "    <tr>\n",
       "      <th>7</th>\n",
       "      <td>0.785/50</td>\n",
       "      <td>1.81/50</td>\n",
       "      <td>1</td>\n",
       "      <td>1</td>\n",
       "      <td>1</td>\n",
       "    </tr>\n",
       "    <tr>\n",
       "      <th>8</th>\n",
       "      <td>0.75/50</td>\n",
       "      <td>1.81/50</td>\n",
       "      <td>-1</td>\n",
       "      <td>-1</td>\n",
       "      <td>-1</td>\n",
       "    </tr>\n",
       "  </tbody>\n",
       "</table>\n",
       "</div>"
      ],
      "text/plain": [
       "     G_VDCC    G_NMDA \\delta t=83.5 \\delta t=84 \\delta t=84.5\n",
       "0    0.8/50   1.75/50             1           1            -1\n",
       "1   0.75/50   1.75/50            -1          -1            -1\n",
       "2  0.825/50   1.75/50             1           1             1\n",
       "3  0.775/50   1.75/50            -1          -1            -1\n",
       "4  0.775/50    1.8/50             1          -1            -1\n",
       "5  0.775/50  1.825/50             1           1             1\n",
       "6  0.775/50   1.81/50             1           1            -1\n",
       "7  0.785/50   1.81/50             1           1             1\n",
       "8   0.75/50   1.81/50            -1          -1            -1"
      ]
     },
     "metadata": {},
     "output_type": "display_data"
    }
   ],
   "source": [
    "\n",
    "\n",
    "def add_row(matrix, new_row):\n",
    "\n",
    "    return np.vstack([matrix, new_row])\n",
    "\n",
    "matrix = np.array([\"G_VDCC\", \"G_NMDA\", \"\\delta t=83.5\", \"\\delta t=84\", \"\\delta t=84.5\"])\n",
    "\n",
    "matrix = add_row(matrix, [\"0.8/50\", \"1.75/50\", 1,1,-1])\n",
    "matrix = add_row(matrix, [\"0.75/50\", \"1.75/50\", -1,-1,-1])\n",
    "matrix = add_row(matrix, [\"0.825/50\", \"1.75/50\", 1,1,1])\n",
    "matrix = add_row(matrix, [\"0.775/50\", \"1.75/50\", -1,-1,-1])\n",
    "matrix = add_row(matrix, [\"0.775/50\", \"1.8/50\", 1,-1,-1])\n",
    "matrix = add_row(matrix, [\"0.775/50\", \"1.825/50\", 1,1,1])\n",
    "matrix = add_row(matrix, [\"0.775/50\", \"1.81/50\", 1,1,-1])\n",
    "matrix = add_row(matrix, [\"0.785/50\", \"1.81/50\", 1,1,1])\n",
    "matrix = add_row(matrix, [\"0.75/50\", \"1.81/50\", -1,-1,-1])\n",
    "\n",
    "df = pd.DataFrame(matrix[1:], columns=matrix[0])\n",
    "display(Markdown(\"Parameter tuning for the G_VDCC and G_NMDA\"))\n",
    "display(df)\n"
   ]
  },
  {
   "attachments": {},
   "cell_type": "markdown",
   "metadata": {},
   "source": [
    "i will then discover how to control the calcium at the low level\n"
   ]
  },
  {
   "cell_type": "code",
   "execution_count": 68,
   "metadata": {},
   "outputs": [
    {
     "name": "stdout",
     "output_type": "stream",
     "text": [
      "[['0.8/50' '1.75/50' '4' '-10' '-1']\n",
      " ['0.8/50' '1.75/50' '4' '-5' '-1']\n",
      " ['0.8/50' '1.75/50' '8' '5' '1']\n",
      " ['0.8/50' '1.75/50' '8' '5' '1']\n",
      " ['0.8/50' '1.75/50' '8' '10' '1']]\n"
     ]
    }
   ],
   "source": [
    "header = [\"G_VDCC\", \"G_NMDA\", \"CA_max\", \"\\delta t\",\"status\"]\n",
    "\n",
    "# Create an empty matrix with headers\n",
    "CA1 = np.empty((0, 5), dtype=object)  # Use object dtype for mixed types\n",
    "\n",
    "# Add rows to the matrix\n",
    "CA1 = add_row(CA1, [\"0.8/50\", \"1.75/50\", 4,\"-10\" , -1])\n",
    "CA1 = add_row(CA1, [\"0.8/50\", \"1.75/50\", 4,\"-5\",-1])\n",
    "CA1 = add_row(CA1, [\"0.8/50\", \"1.75/50\", 8,\"5\",1])\n",
    "CA1 = add_row(CA1, [\"0.8/50\", \"1.75/50\", 8,\"5\",1])\n",
    "CA1 = add_row(CA1, [\"0.8/50\", \"1.75/50\", 8,\"10\",1])\n",
    "\n",
    "print(CA1)\n"
   ]
  },
  {
   "cell_type": "code",
   "execution_count": 69,
   "metadata": {},
   "outputs": [
    {
     "name": "stdout",
     "output_type": "stream",
     "text": [
      "[['0.75/50' '1.75/50' '3.3' '-10' '-1']\n",
      " ['0.75/50' '1.75/50' '3.8' '-5' '-1']\n",
      " ['0.75/50' '1.75/50' '7.8' '5' '1']\n",
      " ['0.75/50' '1.75/50' '7.8' '5' '1']\n",
      " ['0.75/50' '1.75/50' '7.8' '10' '1']]\n"
     ]
    }
   ],
   "source": [
    "header = [\"G_VDCC\", \"G_NMDA\", \"CA_max\", \"\\delta t\",\"status\"]\n",
    "\n",
    "# Create an empty matrix with headers\n",
    "CA1 = np.empty((0, 5), dtype=object)  # Use object dtype for mixed types\n",
    "\n",
    "# Add rows to the matrix\n",
    "CA1 = add_row(CA1, [\"0.75/50\", \"1.75/50\", 3.3,\"-10\" , -1])\n",
    "CA1 = add_row(CA1, [\"0.75/50\", \"1.75/50\", 3.8,\"-5\",-1])\n",
    "CA1 = add_row(CA1, [\"0.75/50\", \"1.75/50\", 7.8,\"5\",1])\n",
    "CA1 = add_row(CA1, [\"0.75/50\", \"1.75/50\", 7.8,\"5\",1])\n",
    "CA1 = add_row(CA1, [\"0.75/50\", \"1.75/50\", 7.8,\"10\",1])\n",
    "\n",
    "print(CA1)"
   ]
  },
  {
   "cell_type": "code",
   "execution_count": 70,
   "metadata": {},
   "outputs": [
    {
     "name": "stdout",
     "output_type": "stream",
     "text": [
      "[['0.5/50' '1.75/50' '2.5' '-10' '-1']\n",
      " ['0.5/50' '1.75/50' '3.4' '-5' '-1']\n",
      " ['0.5/50' '1.75/50' '7' '5' '1']\n",
      " ['0.5/50' '1.75/50' '7' '5' '1']\n",
      " ['0.5/50' '1.75/50' '7' '10' '1']]\n"
     ]
    }
   ],
   "source": [
    "header = [\"G_VDCC\", \"G_NMDA\", \"CA_max\", \"\\delta t\",\"status\"]\n",
    "\n",
    "# Create an empty matrix with headers\n",
    "CA1 = np.empty((0, 5), dtype=object)  # Use object dtype for mixed types\n",
    "\n",
    "# Add rows to the matrix\n",
    "CA1 = add_row(CA1, [\"0.5/50\", \"1.75/50\", 2.5,\"-10\" , -1])\n",
    "CA1 = add_row(CA1, [\"0.5/50\", \"1.75/50\", 3.4,\"-5\",-1])\n",
    "CA1 = add_row(CA1, [\"0.5/50\", \"1.75/50\", 7,\"5\",1])\n",
    "CA1 = add_row(CA1, [\"0.5/50\", \"1.75/50\", 7,\"5\",1])\n",
    "CA1 = add_row(CA1, [\"0.5/50\", \"1.75/50\", 7,\"10\",1])\n",
    "print(CA1)"
   ]
  },
  {
   "cell_type": "code",
   "execution_count": 71,
   "metadata": {},
   "outputs": [
    {
     "name": "stdout",
     "output_type": "stream",
     "text": [
      "[['0.5/50' '1.5/50' '2.2' '-10' '-1']\n",
      " ['0.5/50' '1.5/50' '3' '-5' '-1']\n",
      " ['0.5/50' '1.5/50' '6.2' '5' '1']\n",
      " ['0.5/50' '1.5/50' '6.3' '5' '1']\n",
      " ['0.5/50' '1.5/50' '6.3' '10' '1']]\n"
     ]
    }
   ],
   "source": [
    "header = [\"G_VDCC\", \"G_NMDA\", \"CA_max\", \"\\delta t\",\"status\"]\n",
    "\n",
    "# Create an empty matrix with headers\n",
    "CA1 = np.empty((0, 5), dtype=object)  # Use object dtype for mixed types\n",
    "\n",
    "# Add rows to the matrix\n",
    "CA1 = add_row(CA1, [\"0.5/50\", \"1.5/50\", 2.2,\"-10\" , -1])\n",
    "CA1 = add_row(CA1, [\"0.5/50\", \"1.5/50\", 3,\"-5\",-1])\n",
    "CA1 = add_row(CA1, [\"0.5/50\", \"1.5/50\", 6.2,\"5\",1])\n",
    "CA1 = add_row(CA1, [\"0.5/50\", \"1.5/50\", 6.3,\"5\",1])\n",
    "CA1 = add_row(CA1, [\"0.5/50\", \"1.5/50\", 6.3,\"10\",1])\n",
    "print(CA1)"
   ]
  },
  {
   "cell_type": "code",
   "execution_count": 72,
   "metadata": {},
   "outputs": [
    {
     "name": "stdout",
     "output_type": "stream",
     "text": [
      "[['0.5/50' '1.5/50' '2.2' '-10' '-1']\n",
      " ['0.5/50' '1.5/50' '3' '-5' '-1']\n",
      " ['0.5/50' '1.5/50' '6.2' '5' '1']\n",
      " ['0.5/50' '1.5/50' '6.3' '5' '1']\n",
      " ['0.5/50' '1.5/50' '6.3' '10' '1']]\n"
     ]
    }
   ],
   "source": [
    "header = [\"G_VDCC\", \"G_NMDA\", \"CA_max\", \"\\delta t\",\"status\"]\n",
    "\n",
    "# Create an empty matrix with headers\n",
    "CA1 = np.empty((0, 5), dtype=object)  # Use object dtype for mixed types\n",
    "\n",
    "# Add rows to the matrix\n",
    "CA1 = add_row(CA1, [\"0.5/50\", \"1.5/50\", 2.2,\"-10\" , -1])\n",
    "CA1 = add_row(CA1, [\"0.5/50\", \"1.5/50\", 3,\"-5\",-1])\n",
    "CA1 = add_row(CA1, [\"0.5/50\", \"1.5/50\", 6.2,\"5\",1])\n",
    "CA1 = add_row(CA1, [\"0.5/50\", \"1.5/50\", 6.3,\"5\",1])\n",
    "CA1 = add_row(CA1, [\"0.5/50\", \"1.5/50\", 6.3,\"10\",1])\n",
    "print(CA1)"
   ]
  },
  {
   "cell_type": "code",
   "execution_count": 75,
   "metadata": {},
   "outputs": [
    {
     "name": "stdout",
     "output_type": "stream",
     "text": [
      "[['0.5/50' '1.5/50' '2.2' '-10' '0']\n",
      " ['0.5/50' '1.5/50' '3' '-7.5' '-1']\n",
      " ['0.5/50' '1.5/50' '6.2' '-5' '-1']\n",
      " ['0.5/50' '1.5/50' '6.3' '-2.5' '-1']\n",
      " ['0.5/50' '1.5/50' '6.3' '0' '-1']\n",
      " ['0.5/50' '1.5/50' '2.2' '2.5' '-1']\n",
      " ['0.5/50' '1.5/50' '3' '5' '-1']\n",
      " ['0.5/50' '1.5/50' '6.2' '7.5' '-1']\n",
      " ['0.5/50' '1.5/50' '6.3' '10' '-1']]\n"
     ]
    }
   ],
   "source": [
    "# Create an empty matrix with headers\n",
    "CA1 = np.empty((0, 5), dtype=object)  # Use object dtype for mixed types\n",
    "\n",
    "# Add rows to the matrix\n",
    "CA1 = add_row(CA1, [\"0.5/50\", \"1.5/50\", 2.2,\"-10\" , 0])\n",
    "CA1 = add_row(CA1, [\"0.5/50\", \"1.5/50\", 3,\"-7.5\",-1])\n",
    "CA1 = add_row(CA1, [\"0.5/50\", \"1.5/50\", 6.2,\"-5\",-1])\n",
    "CA1 = add_row(CA1, [\"0.5/50\", \"1.5/50\", 6.3,\"-2.5\",-1])\n",
    "CA1 = add_row(CA1, [\"0.5/50\", \"1.5/50\", 6.3,\"0\",-1])\n",
    "CA1 = add_row(CA1, [\"0.5/50\", \"1.5/50\", 2.2,\"2.5\" , -1])\n",
    "CA1 = add_row(CA1, [\"0.5/50\", \"1.5/50\", 3,\"5\",-1])\n",
    "CA1 = add_row(CA1, [\"0.5/50\", \"1.5/50\", 6.2,\"7.5\",-1])\n",
    "CA1 = add_row(CA1, [\"0.5/50\", \"1.5/50\", 6.3,\"10\",-1])\n",
    "print(CA1)"
   ]
  },
  {
   "attachments": {},
   "cell_type": "markdown",
   "metadata": {},
   "source": [
    "we can see that for this parameter, we first see the basal state at \\delta t=-10, and we record the calcium level be around 1.4\n",
    "my next step is to try to stablize the basal state around [-10,10] as much as possible"
   ]
  },
  {
   "cell_type": "code",
   "execution_count": null,
   "metadata": {},
   "outputs": [],
   "source": [
    "# Create an empty matrix with headers\n",
    "CA1 = np.empty((0, 5), dtype=object)  # Use object dtype for mixed types\n",
    "\n",
    "# Add rows to the matrix\n",
    "CA1 = add_row(CA1, [\"0.1/50\", \"0.75/50\", 2.2,\"-10\" , 0])\n",
    "CA1 = add_row(CA1, [\"0.1/50\", \"0.75/50\", 3,\"-7.5\",0])\n",
    "CA1 = add_row(CA1, [\"0.1/50\", \"0.75/50\", 6.2,\"-5\",0])\n",
    "CA1 = add_row(CA1, [\"0.1/50\", \"0.75/50\", 6.3,\"-2.5\",-1])\n",
    "CA1 = add_row(CA1, [\"0.1/50\", \"0.75/50\", 6.3,\"0\",-1])\n",
    "CA1 = add_row(CA1, [\"0.1/50\", \"0.75/50\", 2.2,\"2.5\" , -1])\n",
    "CA1 = add_row(CA1, [\"0.1/50\", \"0.75/50\", 3,\"5\",-1])\n",
    "CA1 = add_row(CA1, [\"0.1/50\", \"0.75/50\", 6.2,\"7.5\",-1])\n",
    "CA1 = add_row(CA1, [\"0.1/50\", \"0.75/50\", 6.3,\"10\",-1])\n",
    "print(CA1)"
   ]
  },
  {
   "cell_type": "code",
   "execution_count": null,
   "metadata": {},
   "outputs": [],
   "source": [
    "CA1 = np.empty((0, 5), dtype=object)  # Use object dtype for mixed types\n",
    "\n",
    "# Add rows to the matrix\n",
    "CA1 = add_row(CA1, [\"0.1/50\", \"0.5/50\", 2.2,\"-10\" , 0])\n",
    "CA1 = add_row(CA1, [\"0.1/50\", \"0.5/50\", 3,\"-7.5\",0])\n",
    "CA1 = add_row(CA1, [\"0.1/50\", \"0.5/50\", 6.2,\"-5\",0])\n",
    "CA1 = add_row(CA1, [\"0.1/50\", \"0.5/50\", 6.3,\"-2.5\",0])\n",
    "CA1 = add_row(CA1, [\"0.1/50\", \"0.5/50\", 6.3,\"0\",-1])\n",
    "CA1 = add_row(CA1, [\"0.1/50\", \"0.5/50\", 2.2,\"2.5\" , -1])\n",
    "CA1 = add_row(CA1, [\"0.1/50\", \"0.5/50\", 3,\"5\",0])\n",
    "CA1 = add_row(CA1, [\"0.1/50\", \"0.5/50\", 6.2,\"7.5\",0])\n",
    "CA1 = add_row(CA1, [\"0.1/50\", \"0.5/50\", 6.3,\"10\",0])\n",
    "print(CA1)"
   ]
  },
  {
   "cell_type": "code",
   "execution_count": null,
   "metadata": {},
   "outputs": [],
   "source": [
    "CA1 = np.empty((0, 5), dtype=object)  # Use object dtype for mixed types\n",
    "\n",
    "# Add rows to the matrix\n",
    "CA1 = add_row(CA1, [\"0.1/50\", \"0.25/50\", 0.53,\"-10\" , 0])\n",
    "CA1 = add_row(CA1, [\"0.1/50\", \"0.25/50\", 3,\"-7.5\",0])\n",
    "CA1 = add_row(CA1, [\"0.1/50\", \"0.25/50\", 6.2,\"-5\",0])\n",
    "CA1 = add_row(CA1, [\"0.1/50\", \"0.25/50\", 6.3,\"-2.5\",0])\n",
    "CA1 = add_row(CA1, [\"0.1/50\", \"0.25/50\", 6.3,\"0\",0])\n",
    "CA1 = add_row(CA1, [\"0.1/50\", \"0.25/50\", 2.2,\"2.5\" , 0])\n",
    "CA1 = add_row(CA1, [\"0.1/50\", \"0.25/50\", 3,\"5\",0])\n",
    "CA1 = add_row(CA1, [\"0.1/50\", \"0.25/50\", 6.2,\"7.5\",0])\n",
    "CA1 = add_row(CA1, [\"0.1/50\", \"0.25/50\", 6.3,\"10\",0])\n",
    "print(CA1)"
   ]
  },
  {
   "attachments": {},
   "cell_type": "markdown",
   "metadata": {},
   "source": [
    "now we get the basal state at around [-10,10], which is what we desire. then we take a look if it has good behavior on the large data set for the larger time interval, which in this case we start from delta_t_values = [-90, -70, -50, -30, -10, 0, 10, 30, 50, 70, 90];"
   ]
  },
  {
   "cell_type": "code",
   "execution_count": null,
   "metadata": {},
   "outputs": [],
   "source": [
    "CA1 = np.empty((0, 5), dtype=object)  # Use object dtype for mixed types\n",
    "\n",
    "# Add rows to the matrix\n",
    "CA1 = add_row(CA1, [\"0.1/50\", \"0.5/50\", 0.53,\"-90\" , 0])\n",
    "CA1 = add_row(CA1, [\"0.1/50\", \"0.5/50\", 3,\"-70\",0])\n",
    "CA1 = add_row(CA1, [\"0.1/50\", \"0.5/50\", 6.2,\"-50\",0])\n",
    "CA1 = add_row(CA1, [\"0.1/50\", \"0.5/50\", 6.3,\"-30\",0])\n",
    "CA1 = add_row(CA1, [\"0.1/50\", \"0.5/50\", 6.3,\"-10\",0])\n",
    "CA1 = add_row(CA1, [\"0.1/50\", \"0.5/50\", 2.2,\"0\" , 0])\n",
    "CA1 = add_row(CA1, [\"0.1/50\", \"0.5/50\", 3,\"10\",0])\n",
    "CA1 = add_row(CA1, [\"0.1/50\", \"0.5/50\", 6.2,\"30\",0])\n",
    "CA1 = add_row(CA1, [\"0.1/50\", \"0.5/50\", 6.3,\"50\",0])\n",
    "CA1 = add_row(CA1, [\"0.1/50\", \"0.5/50\", 6.3,\"70\",0])\n",
    "CA1 = add_row(CA1, [\"0.1/50\", \"0.5/50\", 6.3,\"90\",0])\n",
    "print(CA1)"
   ]
  },
  {
   "cell_type": "markdown",
   "metadata": {},
   "source": []
  },
  {
   "cell_type": "code",
   "execution_count": null,
   "metadata": {},
   "outputs": [],
   "source": []
  }
 ],
 "metadata": {
  "kernelspec": {
   "display_name": "base",
   "language": "python",
   "name": "python3"
  },
  "language_info": {
   "codemirror_mode": {
    "name": "ipython",
    "version": 3
   },
   "file_extension": ".py",
   "mimetype": "text/x-python",
   "name": "python",
   "nbconvert_exporter": "python",
   "pygments_lexer": "ipython3",
   "version": "3.10.9"
  },
  "orig_nbformat": 4,
  "vscode": {
   "interpreter": {
    "hash": "673453475f17358d12e586cf7c11b61d2ef42d9150dcd5b4201155b574941341"
   }
  }
 },
 "nbformat": 4,
 "nbformat_minor": 2
}
