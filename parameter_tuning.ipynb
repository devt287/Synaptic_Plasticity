{
 "cells": [
  {
   "cell_type": "code",
   "execution_count": 2,
   "metadata": {},
   "outputs": [],
   "source": [
    "import matplotlib.pyplot as plt\n",
    "import numpy as np\n",
    "from matplotlib.colors import ListedColormap\n",
    "from matplotlib.patches import Patch"
   ]
  },
  {
   "cell_type": "code",
   "execution_count": 3,
   "metadata": {},
   "outputs": [],
   "source": [
    "def add_row(matrix, new_row):\n",
    "    return np.vstack([matrix, new_row])"
   ]
  },
  {
   "cell_type": "code",
   "execution_count": 7,
   "metadata": {},
   "outputs": [],
   "source": [
    "import numpy as np\n",
    "\n",
    "def add_row(matrix, new_row):\n",
    "\n",
    "    return np.vstack([matrix, new_row])\n",
    "\n",
    "# Example usage:\n",
    "matrix = np.array([\"G_NMDA\", \"G_VDCC\", \"\\delta t=83.5\",\"\\delta t=84\",\"\\delta t=84.5\"])\n",
    "\n",
    "matrix = add_row(matrix, [1.75/50, 0.8/50, -1,-1,-1])\n",
    "matrix = add_row(matrix, [1.8/50, 0.8/50, -1,-1,-1])\n",
    "\n",
    "print(matrix)\n"
   ]
  }
 ],
 "metadata": {
  "kernelspec": {
   "display_name": "base",
   "language": "python",
   "name": "python3"
  },
  "language_info": {
   "codemirror_mode": {
    "name": "ipython",
    "version": 3
   },
   "file_extension": ".py",
   "mimetype": "text/x-python",
   "name": "python",
   "nbconvert_exporter": "python",
   "pygments_lexer": "ipython3",
   "version": "3.10.9"
  },
  "orig_nbformat": 4,
  "vscode": {
   "interpreter": {
    "hash": "673453475f17358d12e586cf7c11b61d2ef42d9150dcd5b4201155b574941341"
   }
  }
 },
 "nbformat": 4,
 "nbformat_minor": 2
}
